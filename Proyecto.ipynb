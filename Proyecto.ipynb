{
 "cells": [
  {
   "cell_type": "code",
   "execution_count": 1,
   "metadata": {},
   "outputs": [
    {
     "name": "stderr",
     "output_type": "stream",
     "text": [
      "/Users/alejandromunoz/Library/Python/3.9/lib/python/site-packages/sentence_transformers/cross_encoder/CrossEncoder.py:11: TqdmExperimentalWarning: Using `tqdm.autonotebook.tqdm` in notebook mode. Use `tqdm.tqdm` instead to force console mode (e.g. in jupyter console)\n",
      "  from tqdm.autonotebook import tqdm, trange\n",
      "/Users/alejandromunoz/Library/Python/3.9/lib/python/site-packages/urllib3/__init__.py:35: NotOpenSSLWarning: urllib3 v2 only supports OpenSSL 1.1.1+, currently the 'ssl' module is compiled with 'LibreSSL 2.8.3'. See: https://github.com/urllib3/urllib3/issues/3020\n",
      "  warnings.warn(\n",
      "/Users/alejandromunoz/Library/Python/3.9/lib/python/site-packages/torchvision/io/image.py:13: UserWarning: Failed to load image Python extension: dlopen(/Users/alejandromunoz/Library/Python/3.9/lib/python/site-packages/torchvision/image.so, 0x0006): Symbol not found: __ZN3c1017RegisterOperatorsD1Ev\n",
      "  Referenced from: <B3E58761-2785-34C6-A89B-F37110C88A05> /Users/alejandromunoz/Library/Python/3.9/lib/python/site-packages/torchvision/image.so\n",
      "  Expected in:     <1D55FADC-C183-3A6D-AF55-078C17E034B1> /Users/alejandromunoz/Library/Python/3.9/lib/python/site-packages/torch/lib/libtorch_cpu.dylib\n",
      "  warn(f\"Failed to load image Python extension: {e}\")\n"
     ]
    }
   ],
   "source": [
    "import pandas as pd\n",
    "from sentence_transformers import SentenceTransformer\n",
    "import fitz  # PyMuPDF\n",
    "import numpy as np\n",
    "import os\n",
    "import pdfplumber"
   ]
  },
  {
   "cell_type": "markdown",
   "metadata": {},
   "source": [
    "### 1. Aplicamos una función que trasnforma el texto a OCR y lo almacena en una base de datos"
   ]
  },
  {
   "cell_type": "code",
   "execution_count": 2,
   "metadata": {},
   "outputs": [],
   "source": [
    "import pytesseract\n",
    "from pdf2image import convert_from_path\n",
    "from PIL import Image\n",
    "\n",
    "def extraer_texto_de_pdf_con_ocr(ruta_pdf):\n",
    "    \"\"\"\n",
    "    Extrae el texto de un documento PDF utilizando OCR (Tesseract) y pdf2image.\n",
    "    :param ruta_pdf: Ruta del archivo PDF.\n",
    "    :return: Texto extraído del PDF.\n",
    "    \"\"\"\n",
    "    texto_completo = \"\"\n",
    "\n",
    "    # Convierte el PDF a una lista de imágenes (una imagen por página)\n",
    "    paginas = convert_from_path(ruta_pdf)\n",
    "\n",
    "    # Realiza OCR en cada imagen de página\n",
    "    for numero_pagina, pagina in enumerate(paginas, start=1):\n",
    "        print(f\"Procesando página {numero_pagina}...\")  # Informar sobre el progreso\n",
    "        # Convierte la imagen a un formato soportado por Tesseract (RGB)\n",
    "        pagina_rgb = pagina.convert('RGB')\n",
    "        \n",
    "        # Realiza OCR en la imagen de la página\n",
    "        texto = pytesseract.image_to_string(pagina_rgb, lang='spa')  # 'lang' establece el idioma (ej. español)\n",
    "        texto_completo += f\"\\n\\n--- Página {numero_pagina} ---\\n\" + texto  # Añade el número de página para referencia\n",
    "\n",
    "    return texto_completo\n"
   ]
  },
  {
   "cell_type": "code",
   "execution_count": 3,
   "metadata": {},
   "outputs": [],
   "source": [
    "def crear_df_de_directorio(directorio):\n",
    "    \"\"\"\n",
    "    Lee todos los archivos PDF en un directorio y crea un DataFrame con tres columnas:\n",
    "    id, titulo (nombre del archivo), texto (contenido extraído).\n",
    "    :param directorio: Ruta del directorio que contiene los archivos PDF.\n",
    "    :return: DataFrame con columnas id, titulo, texto.\n",
    "    \"\"\"\n",
    "    archivos = [f for f in os.listdir(directorio) if f.endswith('.pdf')]\n",
    "    \n",
    "    datos = []  # Lista para almacenar los datos de los PDFs\n",
    "    \n",
    "    for idx, archivo in enumerate(archivos, 1):\n",
    "        ruta_pdf = os.path.join(directorio, archivo)\n",
    "        texto = extraer_texto_de_pdf_con_ocr(ruta_pdf)  # Extraemos el texto del PDF\n",
    "        \n",
    "        datos.append({\n",
    "            'id': idx,\n",
    "            'titulo': archivo,\n",
    "            'texto': texto\n",
    "        })\n",
    "    \n",
    "    # Crear un DataFrame con los datos recopilados\n",
    "    df = pd.DataFrame(datos, columns=['id', 'titulo', 'texto'])\n",
    "    \n",
    "    return df"
   ]
  },
  {
   "cell_type": "code",
   "execution_count": 4,
   "metadata": {},
   "outputs": [
    {
     "name": "stdout",
     "output_type": "stream",
     "text": [
      "Procesando página 1...\n",
      "Procesando página 1...\n",
      "Procesando página 2...\n",
      "Procesando página 3...\n",
      "Procesando página 4...\n",
      "Procesando página 1...\n",
      "Procesando página 1...\n",
      "Procesando página 2...\n",
      "Procesando página 1...\n",
      "Procesando página 2...\n",
      "Procesando página 1...\n",
      "Procesando página 2...\n",
      "Procesando página 1...\n",
      "Procesando página 1...\n",
      "Procesando página 2...\n",
      "Procesando página 3...\n"
     ]
    }
   ],
   "source": [
    "directorio = \"/Users/alejandromunoz/Desktop/Proyectos/VK/LLM DOCUMENTOS/libros\"\n",
    "df_pdfs = crear_df_de_directorio(directorio)"
   ]
  },
  {
   "cell_type": "markdown",
   "metadata": {},
   "source": [
    "### 2. Realizamos una limpieza de los datos"
   ]
  },
  {
   "cell_type": "code",
   "execution_count": 5,
   "metadata": {},
   "outputs": [
    {
     "name": "stderr",
     "output_type": "stream",
     "text": [
      "[nltk_data] Downloading package stopwords to\n",
      "[nltk_data]     /Users/alejandromunoz/nltk_data...\n",
      "[nltk_data]   Package stopwords is already up-to-date!\n",
      "[nltk_data] Downloading package wordnet to\n",
      "[nltk_data]     /Users/alejandromunoz/nltk_data...\n",
      "[nltk_data]   Package wordnet is already up-to-date!\n"
     ]
    }
   ],
   "source": [
    "import re\n",
    "import pandas as pd\n",
    "import nltk\n",
    "from nltk.corpus import stopwords\n",
    "from nltk.stem import WordNetLemmatizer\n",
    "\n",
    "nltk.download('stopwords')\n",
    "nltk.download('wordnet')\n",
    "\n",
    "# Función para limpiar el texto\n",
    "def limpiar_texto(texto):\n",
    "    texto = re.sub(r'•|–|-|–|—', '', texto)  # Eliminar viñetas comunes y guiones\n",
    "    texto = re.sub(r'\\n\\s*\\n', '\\n', texto)  # Eliminar saltos de línea excesivos\n",
    "    texto = re.sub(r'\\s+', ' ', texto)       # Reducir múltiples espacios a uno solo\n",
    "    texto = texto.strip()                    # Eliminar espacios en blanco al inicio y al final\n",
    "    return texto\n",
    "\n",
    "# Función para preprocesar el texto (en español)\n",
    "def preprocesar_texto(texto):\n",
    "    texto = texto.lower()\n",
    "    texto = re.sub(r'[^a-záéíóúñü ]', '', texto)  # Filtrar caracteres no alfabéticos y tildes\n",
    "    \n",
    "    stop_words = set(stopwords.words('spanish'))\n",
    "    palabras = texto.split()\n",
    "    palabras_filtradas = [palabra for palabra in palabras if palabra not in stop_words]\n",
    "    \n",
    "    lemmatizer = WordNetLemmatizer()  # Nota: Este lematizador es para inglés. Considera spaCy para español.\n",
    "    palabras_lemmatizadas = [lemmatizer.lemmatize(palabra) for palabra in palabras_filtradas]\n",
    "    \n",
    "    texto_procesado = ' '.join(palabras_lemmatizadas)\n",
    "    \n",
    "    return texto_procesado\n",
    "\n",
    "# Aplicar las funciones al DataFrame\n",
    "df_pdfs['texto'] = df_pdfs['texto'].apply(limpiar_texto)\n",
    "df_pdfs['texto'] = df_pdfs['texto'].apply(preprocesar_texto)\n",
    "\n"
   ]
  },
  {
   "cell_type": "code",
   "execution_count": 6,
   "metadata": {},
   "outputs": [
    {
     "data": {
      "text/plain": [
       "'página sunarp speristendancde necderas et tn egintras pubsicis zona registral n v sede trujillo códig verificación oficina registral trujillo slicitud n registro persona jurídicas libro sociedades anonimas certificado vigencia servidr suscribe certifica partida electrónica n registr persnas jurídicas oficina registral trujillo cnsta registrad vigente nmbramient favr che castillo sandro raziel identificad cn dni n cuys dat precisan cntinuación denominación razón social chimu agropecuaria sa libro sociedades anonimas asiento do cargo jefe sistemas facultades do i confieren jefe sistemas senor sandro raziel che castillo identificado dni n toda atribuciones refieren numeral celebración otorgamiento suscripción actos negocios jurídicos obligaciones contratos celebrar realizar actos contratos negocios jurídicos relativos disposición gravamen afectación activos negociables negocíables muebles inmuebles así modificar concluir tipo actos contratos negoccios jurídicos contrayendo regulando modificando extinguiendo cualquier clase relaciones jurídicas obligaciones derechos otorgando suscribiendo respectivo contrato acuerdo convenio pacto así documentos publicos privados necesarios dichos propositos celebracion acto disposición afectación gravamen bienes inmuebles requerirá aprobación previa directorio b consecuencia siguiente relación limitativa sino meramente enunciativa celebrar contratos operaciones financiación inversión reinversión refinanciación capitalización naturaleza financiera contratos compraventa permuta arrendamiento dando tomando recibiendo bienes arrendamiento arrendamiento financiero enn cualquiera modalidades formas deposito suministro secuestro comodato mutuo constitución derechos uso habitación construcción locación ejecución obra contratos locación servicios credito obligaciones ceder aceptar cesiones credíto nominativo orden portador ceder aceptar derechos litigiosos celebrar ejecutar contratos transporte toda modalidades construcción cambio comisión corretaje representación agencia asimismo descontar facturas letras contratar factoring confirming pagare importación modificado asiento b c efectuar disponer pago cumplimiento obligaciones cargo sociedad trave cualquiera modalidades tale pago propiamente dicho consignación subrogación dación consignación pago pago cesión bienes derechos extinguir obligaciones mediante compensación novación remisión transacción cualquier forma extinción obligaciones permitida legislación d celebrar contratos colaboración empresarial constituir formar parte comunidades certíficados extienden oficinas registrales acreditan existencia inexistencia inscripciones anotaciones registro tiempo expedición art tuodel reglamento general registros publicos aprobado resolucion n sunarpsn autenticidad presente documento podrá verificarse página web httpsenlinea sunarpgb pesunarpwebipages publicidadcertificadanverificarcertificadoliteral face l plazo días calendario contados emisión reglamento servicio publicidad registral artículo delimitación responsabilidad servidor responsable expide publicidad formal asume responsabilidad defectos inexactitude asientos registrales inpices automatizados títulos pendientes consten sistema informático pag página ta bgibrs púlsics zona registral n v sede trujillo códig verificación oficina registral trujillo slicitud n sindicatos asociaciones junta cuentas participación joint venture sociedades cooperativas comites etc intervenir constitución aumento capital sociedades regidas ley general sociedades obligando sociedad pago respectivo aporte prima capital prestación accesoría yu obligaciones adicionales suscripción acciones participaciones sociales celebrar contratos designar agentes representantes comisionistas distribuidores concesionarios f celebrar contratos seguro cualquiera modalidad acordando prima plazos demás condiciones cobrar pólizas endosarlas cancelarlas total parcialmente igual manera aprobar impugnar liquidaciones siniestros g someterse norma disposiciones bvl caso valores ser emitidos vayan ser inscritos dicha institución cavali sa iclv cavali u entidad compensación liquidación valores cualquier entidad representantes legales estimen necesario perjuicio cumplimiento leyes aplicables ser caso proceder nombramiento representante bursátil aprobar norma internas conducta correspondan implementar procedimientos mecanismos necesarios cumplir toda norma pertinentes h llevar cabo procedimientos trámites presentación solicitude suscribir toda clase documentación smv bvl registros superintendencia banca seguros administradoras fondos pensiones sb entidad compensación liquidación valores contratada ser caso así cualquier registro entidad público privada quedando expresamente establecido enumeración consignada carácter limitativo sino meramente enunciativo c modificación regimen poderes otorgamiento revocatoria facultades junta general accionistas fecha sociedad inscrita partida acordó aprobó unanimidad siguiente modificar regimen poderes sociedad efectos agregar literal numeral queda redactado siguiente manera l negociar celebrar modificar resolver ejecutar contratos coberturas forward divisas fin proteger empresa riesgo cambiario así suscribir l contratos acuerdos declaraciones comunicaciones cualquier documento adicional complementario necesario tal fin relacionado operaciones establece tope maximo anual costo coberturas riesgo podrá asumir empresa u millones quinientos mil dolares americanos b modificación parcial estatuto acta junta universal acordó aprobó unanimidad modificar punto numeral correspondiente estructura poderes sociedad quedando redactado siguiente manera disposiciones relativas doble firma caso ejercicio facultades requieren doble firma resultan aplicables disposiciones siguientes establecen do grupos firmas integradas persona indican continuación grupo b certíficados extienden oficinas registrales acreditan existencia inexistencia inscripciones anotaciones registro tiempo expedicion art tuodel reglamento general registros publicos aprobado resolución n sunarpsn autenticidad presente documento podrá verificarse página web httpsenlinea sunarpgb pesunarpwebipages publicidadcertificadanverificarcertificadoliteral face l plazo días calendario contados emisión reglamento servicio publicidad registral artículo delimitación responsabilidad servidor responsable expide publicidad formal asume responsabilidad defectos inexactitude asientos registrales inpices automatizados títulos pendientes consten sistema informático pag página sunarp speristendancde necderas et tn egintras pubsicis zona registral n v sede trujillo códig verificación oficina registral trujillo slicitud n jefe gestión humana jefe plantas molinos jefe sistemas jefe finanzas administrador piura jefe planeamiento reglas combinación firmas ejercicio cualquier facultad operaciones inferior s necesaria firma do apoderados grupo b alternativamente firma apoderado grupo apoderado grupo b alternativamente firma do apoderados grupo ejercicio cualquier facultad operaciones igual supere suma s inferior s necesaria firma apoderado grupo apoderado grupo b alternativamente firma do apoderados grupo ejercicio cualquier facultad operaciones igual supere suma s necesaria firma do apoderados grupo documento dio merito inscripción junta universal accionistas fecha así consta escritura pública n fecha distrito victor larco herrera notario doris paredes haro ii anotaciones registro personal rubro ninguno iii titulos pendientes n títul fecha presentación act otorgamiento poder sociedad anonima deja constancia presente certificado expide acuerdo art reglamento servicio publicidad registral según existencia títuls pendientes inscripción n impide expedición certificado iv datos adicionales relevancia conocimiento terceros ninguno v páginas acompanan certificado ninguno n fjas certificad derechs pagad s tasa registral servici s verificad expedid pr fiesta piscoya clara abgad certificadr oficina registral trujill hras nviembre certíficados extienden oficinas registrales acreditan existencia inexistencia inscripciones anotaciones registro tiempo expedicion art tuodel reglamento general registros publicos aprobado resolución n sunarpsn autenticidad presente documento podrá verificarse página web httpsenlinea sunarpgb pesunarpwebipages publicidadcertificadanverificarcertificadoliteral face l plazo días calendario contados emisión reglamento servicio publicidad registral artículo delimitación responsabilidad servidor responsable expide publicidad formal asume responsabilidad defectos inexactitude asientos registrales inpices automatizados títulos pendientes consten sistema informático pag página zona registral n v sede trujillo códig verificación oficina registral trujillo slicitud n certíficados extienden oficinas registrales acreditan existencia inexistencia inscripciones anotaciones registro tiempo expedicion art tuodel reglamento general registros publicos aprobado resolución n sunarpsn autenticidad presente documento podrá verificarse página web httpsenlinea sunarpgb pesunarpwebipages publicidadcertificadanverificarcertificadoliteral face l plazo días calendario contados emisión reglamento servicio publicidad registral artículo delimitación responsabilidad servidor responsable expide publicidad formal asume responsabilidad defectos inexactitude asientos registrales inpices automatizados títulos pendientes consten sistema informático pag'"
      ]
     },
     "execution_count": 6,
     "metadata": {},
     "output_type": "execute_result"
    }
   ],
   "source": [
    "# TEXTO LIMPIO\n",
    "df_pdfs['texto'].iloc[1]"
   ]
  },
  {
   "cell_type": "code",
   "execution_count": 19,
   "metadata": {},
   "outputs": [],
   "source": [
    "## SET DE PREGUNTAS: \n",
    "\n",
    "pregunta = \"¿Qué poder se debe otorgar a un jefe de sistemas?\"\n",
    "#'¿Qué tipo de poderes se le otorgan a Sandro Raziel Che Castillo?'\n",
    "#'Genera un documento para asignación de poderes para un nuevo jefe de sistemas llamado Carlos Rodolfo Zevallos Barranzuela'\n",
    "#'Dame recomendaciones para poder crear un nuevo documento para asignación de poderos a un jefe de sistemas'\n",
    "#\"Dame un listado de las principales facultades otorgadas a un jefe de sistemas y luego un detalle de cada facultad listada\"\n",
    "#\"¿Qué poder se debe otorgar a un jefe de sistemas?\""
   ]
  },
  {
   "cell_type": "markdown",
   "metadata": {},
   "source": [
    "### 3. Generamos los embeddings a partir de una pregunta"
   ]
  },
  {
   "cell_type": "code",
   "execution_count": 20,
   "metadata": {},
   "outputs": [
    {
     "name": "stdout",
     "output_type": "stream",
     "text": [
      "Conexión exitosa a Base de datos Vectorial\n",
      "Colección 'embedding_collection' creada con éxito\n",
      "Índice creado con éxito\n"
     ]
    },
    {
     "name": "stderr",
     "output_type": "stream",
     "text": [
      "/Users/alejandromunoz/Library/Python/3.9/lib/python/site-packages/transformers/tokenization_utils_base.py:1601: FutureWarning: `clean_up_tokenization_spaces` was not set. It will be set to `True` by default. This behavior will be depracted in transformers v4.45, and will be then set to `False` by default. For more details check this issue: https://github.com/huggingface/transformers/issues/31884\n",
      "  warnings.warn(\n"
     ]
    },
    {
     "name": "stdout",
     "output_type": "stream",
     "text": [
      "Insertados 44 embeddings en la colección 'embedding_collection'\n",
      "ID: 453364036813717771, Distancia: 1.1526457071304321, Texto: página sunarp speristendancde necderas et tn egintras pubsicis zona registral n v sede trujillo códig verificación oficina registral trujillo slicitud n registro persona jurídicas libro sociedades anonimas certificado vigencia servidr suscribe certifica partida electrónica n registr persnas jurídicas oficina registral trujillo cnsta registrad vigente nmbramient favr che castillo sandro raziel identificad cn dni n cuys dat precisan cntinuación denominación razón social chimu agropecuaria sa libro sociedades anonimas asiento do cargo jefe sistemas facultades do i confieren jefe sistemas senor sandro raziel che castillo identificado dni n toda atribuciones refieren numeral celebración otorgamiento suscripción actos negocios jurídicos obligaciones contratos celebrar realizar actos contratos negocios jurídicos relativos disposición gravamen afectación activos negociables negocíables muebles inmuebles así modificar concluir tipo actos contratos negoccios jurídicos contrayendo regulando modificando extinguiendo cualquier clase relaciones jurídicas obligaciones derechos otorgando suscribiendo respectivo contrato acuerdo convenio pacto así documentos publicos privados necesarios dichos propositos celebracion acto disposición afectación gravamen bienes inmuebles requerirá aprobación previa directorio b consecuencia siguiente relación limitativa sino meramente enunciativa celebrar contratos operaciones financiación inversión reinversión refinanciación capitalización naturaleza financiera contratos compraventa permuta arrendamiento dando tomando recibiendo bienes arrendamiento arrendamiento financiero enn cualquiera modalidades formas deposito suministro secuestro comodato mutuo constitución derechos uso habitación construcción locación ejecución obra contratos locación servicios credito obligaciones ceder aceptar cesiones credíto nominativo orden portador ceder aceptar derechos litigiosos celebrar ejecutar contratos transporte toda modalidades construcción cambio comisión, Document ID: 1\n",
      "ID: 453364036813717816, Distancia: 1.1526457071304321, Texto: página sunarp speristendancde necderas et tn egintras pubsicis zona registral n v sede trujillo códig verificación oficina registral trujillo slicitud n registro persona jurídicas libro sociedades anonimas certificado vigencia servidr suscribe certifica partida electrónica n registr persnas jurídicas oficina registral trujillo cnsta registrad vigente nmbramient favr che castillo sandro raziel identificad cn dni n cuys dat precisan cntinuación denominación razón social chimu agropecuaria sa libro sociedades anonimas asiento do cargo jefe sistemas facultades do i confieren jefe sistemas senor sandro raziel che castillo identificado dni n toda atribuciones refieren numeral celebración otorgamiento suscripción actos negocios jurídicos obligaciones contratos celebrar realizar actos contratos negocios jurídicos relativos disposición gravamen afectación activos negociables negocíables muebles inmuebles así modificar concluir tipo actos contratos negoccios jurídicos contrayendo regulando modificando extinguiendo cualquier clase relaciones jurídicas obligaciones derechos otorgando suscribiendo respectivo contrato acuerdo convenio pacto así documentos publicos privados necesarios dichos propositos celebracion acto disposición afectación gravamen bienes inmuebles requerirá aprobación previa directorio b consecuencia siguiente relación limitativa sino meramente enunciativa celebrar contratos operaciones financiación inversión reinversión refinanciación capitalización naturaleza financiera contratos compraventa permuta arrendamiento dando tomando recibiendo bienes arrendamiento arrendamiento financiero enn cualquiera modalidades formas deposito suministro secuestro comodato mutuo constitución derechos uso habitación construcción locación ejecución obra contratos locación servicios credito obligaciones ceder aceptar cesiones credíto nominativo orden portador ceder aceptar derechos litigiosos celebrar ejecutar contratos transporte toda modalidades construcción cambio comisión, Document ID: 1\n",
      "ID: 453364036813717726, Distancia: 1.1526457071304321, Texto: página sunarp speristendancde necderas et tn egintras pubsicis zona registral n v sede trujillo códig verificación oficina registral trujillo slicitud n registro persona jurídicas libro sociedades anonimas certificado vigencia servidr suscribe certifica partida electrónica n registr persnas jurídicas oficina registral trujillo cnsta registrad vigente nmbramient favr che castillo sandro raziel identificad cn dni n cuys dat precisan cntinuación denominación razón social chimu agropecuaria sa libro sociedades anonimas asiento do cargo jefe sistemas facultades do i confieren jefe sistemas senor sandro raziel che castillo identificado dni n toda atribuciones refieren numeral celebración otorgamiento suscripción actos negocios jurídicos obligaciones contratos celebrar realizar actos contratos negocios jurídicos relativos disposición gravamen afectación activos negociables negocíables muebles inmuebles así modificar concluir tipo actos contratos negoccios jurídicos contrayendo regulando modificando extinguiendo cualquier clase relaciones jurídicas obligaciones derechos otorgando suscribiendo respectivo contrato acuerdo convenio pacto así documentos publicos privados necesarios dichos propositos celebracion acto disposición afectación gravamen bienes inmuebles requerirá aprobación previa directorio b consecuencia siguiente relación limitativa sino meramente enunciativa celebrar contratos operaciones financiación inversión reinversión refinanciación capitalización naturaleza financiera contratos compraventa permuta arrendamiento dando tomando recibiendo bienes arrendamiento arrendamiento financiero enn cualquiera modalidades formas deposito suministro secuestro comodato mutuo constitución derechos uso habitación construcción locación ejecución obra contratos locación servicios credito obligaciones ceder aceptar cesiones credíto nominativo orden portador ceder aceptar derechos litigiosos celebrar ejecutar contratos transporte toda modalidades construcción cambio comisión, Document ID: 1\n"
     ]
    }
   ],
   "source": [
    "from pymilvus import connections, FieldSchema, CollectionSchema, DataType, Collection\n",
    "from pymilvus.exceptions import MilvusException\n",
    "import numpy as np\n",
    "from sentence_transformers import SentenceTransformer\n",
    "from langchain.text_splitter import RecursiveCharacterTextSplitter\n",
    "import pandas as pd\n",
    "\n",
    "# Conexión a Milvus\n",
    "def conectar_milvus(host=\"localhost\", port=\"19530\"):\n",
    "    connections.connect(\"default\", host=host, port=port)\n",
    "    print(\"Conexión exitosa a Base de datos Vectorial\")\n",
    "\n",
    "# Creación de colección\n",
    "def crear_coleccion(nombre_coleccion, embedding_size):\n",
    "    fields = [\n",
    "        FieldSchema(name=\"id\", dtype=DataType.INT64, is_primary=True, auto_id=True),\n",
    "        FieldSchema(name=\"embedding\", dtype=DataType.FLOAT_VECTOR, dim=embedding_size),\n",
    "        FieldSchema(name=\"text\", dtype=DataType.VARCHAR, max_length=4096),\n",
    "        FieldSchema(name=\"document_id\", dtype=DataType.INT64)\n",
    "    ]\n",
    "    schema = CollectionSchema(fields, \"Colección para almacenar embeddings, textos y document_id\")\n",
    "    \n",
    "    try:\n",
    "        collection = Collection(name=nombre_coleccion, schema=schema)\n",
    "        print(f\"Colección '{nombre_coleccion}' creada con éxito\")\n",
    "    except MilvusException as e:\n",
    "        print(f\"Error al crear la colección: {e}\")\n",
    "        collection = Collection(name=nombre_coleccion)\n",
    "\n",
    "    index_params = {\n",
    "        \"metric_type\": \"L2\",\n",
    "        \"index_type\": \"HNSW\",\n",
    "        \"params\": {\"M\": 16, \"efConstruction\": 200}\n",
    "    }\n",
    "    collection.create_index(field_name=\"embedding\", index_params=index_params)\n",
    "    print(\"Índice creado con éxito\")\n",
    "\n",
    "    return collection\n",
    "\n",
    "# Inserción de embeddings, textos y document_id\n",
    "def insertar_embeddings_y_textos(collection, chunked_documents, model_name='all-MiniLM-L6-v2'):\n",
    "    model = SentenceTransformer(model_name)\n",
    "    embeddings = []\n",
    "    texts = []\n",
    "    document_ids = []\n",
    "\n",
    "    for doc in chunked_documents:\n",
    "        text = doc['text']\n",
    "        document_id = doc['document_id']\n",
    "        embedding = model.encode(text)\n",
    "        embeddings.append(embedding)\n",
    "        texts.append(text)\n",
    "        document_ids.append(document_id)\n",
    "\n",
    "    embeddings_flat = [embedding.tolist() for embedding in embeddings]\n",
    "    data = [embeddings_flat, texts, document_ids]\n",
    "    \n",
    "    collection.insert(data)\n",
    "    print(f\"Insertados {len(embeddings)} embeddings en la colección '{collection.name}'\")\n",
    "\n",
    "# Búsqueda de embeddings en Milvus\n",
    "def buscar_embeddings(collection, embedding_query, top_k=5):\n",
    "    embedding_query_flat = embedding_query.tolist()\n",
    "    collection.load()\n",
    "    search_params = {\"metric_type\": \"L2\", \"params\": {\"nprobe\": 10}}\n",
    "    try:\n",
    "        resultados = collection.search([embedding_query_flat], \"embedding\", search_params, limit=top_k, output_fields=[\"id\", \"text\", \"document_id\"])\n",
    "\n",
    "        chunks_encontrados = []\n",
    "        for resultado in resultados:\n",
    "            for hit in resultado:\n",
    "                chunk_info = {\n",
    "                    \"id\": hit.id,\n",
    "                    \"text\": hit.entity.get('text'),\n",
    "                    \"document_id\": hit.entity.get('document_id'),\n",
    "                    \"distance\": hit.distance\n",
    "                }\n",
    "                chunks_encontrados.append(chunk_info)\n",
    "                print(f\"ID: {chunk_info['id']}, Distancia: {chunk_info['distance']}, Texto: {chunk_info['text']}, Document ID: {chunk_info['document_id']}\")\n",
    "\n",
    "        return chunks_encontrados\n",
    "    except MilvusException as e:\n",
    "        print(f\"Error durante la búsqueda: {e}\")\n",
    "        raise\n",
    "\n",
    "# Obtener embedding\n",
    "def get_embedding(text, model_name='all-MiniLM-L6-v2'):\n",
    "    model = SentenceTransformer(model_name)\n",
    "    return model.encode(text)\n",
    "\n",
    "# Buscar otro chunk en la lista `chunked_documents` con el mismo document_id y la palabra \"PROBLEM\"\n",
    "def buscar_chunk_con_problema(chunked_documents, document_id):\n",
    "    for chunk in chunked_documents:\n",
    "        if chunk['document_id'] == document_id and 'PROBLEM' in chunk['text']:\n",
    "            return chunk\n",
    "    return None\n",
    "\n",
    "# Integración con Milvus usando df_pdfs\n",
    "if __name__ == \"__main__\":\n",
    "    conectar_milvus()\n",
    "\n",
    "    nombre_coleccion = \"embedding_collection\"\n",
    "    embedding_size = 384  # Tamaño del embedding del modelo\n",
    "    collection = crear_coleccion(nombre_coleccion, embedding_size)\n",
    "\n",
    "    # df_pdfs es el DataFrame con las columnas id, titulo y texto\n",
    "    df_pdfs = df_pdfs  # Asegúrate de que df_pdfs esté correctamente definido antes\n",
    "\n",
    "    # Dividir documentos en chunks\n",
    "    text_splitter = RecursiveCharacterTextSplitter(chunk_size=2000, chunk_overlap=500)\n",
    "    chunked_documents = []\n",
    "    chunk_unique_id = 0\n",
    "\n",
    "    for doc_id, row in df_pdfs.iterrows():\n",
    "        document = row['texto']  # Extraemos el texto desde la columna 'texto'\n",
    "        chunks = text_splitter.split_text(document)\n",
    "        for chunk_id, chunk in enumerate(chunks):\n",
    "            chunked_documents.append({\n",
    "                \"id\": chunk_unique_id,\n",
    "                \"document_id\": doc_id,  # Usamos el id de df_pdfs como document_id\n",
    "                \"text\": chunk\n",
    "            })\n",
    "            chunk_unique_id += 1\n",
    "\n",
    "    # Insertar los embeddings en la colección de Milvus\n",
    "    insertar_embeddings_y_textos(collection, chunked_documents)\n",
    "\n",
    "    pregunta = pregunta\n",
    "    embedding_pregunta = get_embedding(pregunta)\n",
    "\n",
    "    top_3emb = buscar_embeddings(collection, embedding_pregunta, top_k=3)\n",
    "    \n",
    "    \n",
    "    "
   ]
  },
  {
   "cell_type": "markdown",
   "metadata": {},
   "source": [
    "### 4. Análisis de la respuesta"
   ]
  },
  {
   "cell_type": "code",
   "execution_count": 9,
   "metadata": {},
   "outputs": [
    {
     "data": {
      "text/plain": [
       "{'id': 453364036813717771,\n",
       " 'text': 'página sunarp speristendancde necderas et tn egintras pubsicis zona registral n v sede trujillo códig verificación oficina registral trujillo slicitud n registro persona jurídicas libro sociedades anonimas certificado vigencia servidr suscribe certifica partida electrónica n registr persnas jurídicas oficina registral trujillo cnsta registrad vigente nmbramient favr che castillo sandro raziel identificad cn dni n cuys dat precisan cntinuación denominación razón social chimu agropecuaria sa libro sociedades anonimas asiento do cargo jefe sistemas facultades do i confieren jefe sistemas senor sandro raziel che castillo identificado dni n toda atribuciones refieren numeral celebración otorgamiento suscripción actos negocios jurídicos obligaciones contratos celebrar realizar actos contratos negocios jurídicos relativos disposición gravamen afectación activos negociables negocíables muebles inmuebles así modificar concluir tipo actos contratos negoccios jurídicos contrayendo regulando modificando extinguiendo cualquier clase relaciones jurídicas obligaciones derechos otorgando suscribiendo respectivo contrato acuerdo convenio pacto así documentos publicos privados necesarios dichos propositos celebracion acto disposición afectación gravamen bienes inmuebles requerirá aprobación previa directorio b consecuencia siguiente relación limitativa sino meramente enunciativa celebrar contratos operaciones financiación inversión reinversión refinanciación capitalización naturaleza financiera contratos compraventa permuta arrendamiento dando tomando recibiendo bienes arrendamiento arrendamiento financiero enn cualquiera modalidades formas deposito suministro secuestro comodato mutuo constitución derechos uso habitación construcción locación ejecución obra contratos locación servicios credito obligaciones ceder aceptar cesiones credíto nominativo orden portador ceder aceptar derechos litigiosos celebrar ejecutar contratos transporte toda modalidades construcción cambio comisión',\n",
       " 'document_id': 1,\n",
       " 'distance': 1.2561910152435303}"
      ]
     },
     "execution_count": 9,
     "metadata": {},
     "output_type": "execute_result"
    }
   ],
   "source": [
    "## El Embedding más cercano a la pregunta\n",
    "top_3emb[0]"
   ]
  },
  {
   "cell_type": "code",
   "execution_count": 10,
   "metadata": {},
   "outputs": [
    {
     "data": {
      "text/html": [
       "<div>\n",
       "<style scoped>\n",
       "    .dataframe tbody tr th:only-of-type {\n",
       "        vertical-align: middle;\n",
       "    }\n",
       "\n",
       "    .dataframe tbody tr th {\n",
       "        vertical-align: top;\n",
       "    }\n",
       "\n",
       "    .dataframe thead th {\n",
       "        text-align: right;\n",
       "    }\n",
       "</style>\n",
       "<table border=\"1\" class=\"dataframe\">\n",
       "  <thead>\n",
       "    <tr style=\"text-align: right;\">\n",
       "      <th></th>\n",
       "      <th>id</th>\n",
       "      <th>titulo</th>\n",
       "      <th>texto</th>\n",
       "    </tr>\n",
       "  </thead>\n",
       "  <tbody>\n",
       "    <tr>\n",
       "      <th>0</th>\n",
       "      <td>1</td>\n",
       "      <td>019-2024-EF.pdf</td>\n",
       "      <td>página firmad pr editra peru w mw fecha norma ...</td>\n",
       "    </tr>\n",
       "    <tr>\n",
       "      <th>1</th>\n",
       "      <td>2</td>\n",
       "      <td>Vigencia Ing. Sandro Che - Chimu - Jefe de Sis...</td>\n",
       "      <td>página sunarp speristendancde necderas et tn e...</td>\n",
       "    </tr>\n",
       "    <tr>\n",
       "      <th>2</th>\n",
       "      <td>3</td>\n",
       "      <td>000047-2024-DP.pdf</td>\n",
       "      <td>página firmad pr editra peru w m fecha norma l...</td>\n",
       "    </tr>\n",
       "    <tr>\n",
       "      <th>3</th>\n",
       "      <td>4</td>\n",
       "      <td>324-2024.pdf</td>\n",
       "      <td>página firmad pr editra peru w mw fecha w peru...</td>\n",
       "    </tr>\n",
       "    <tr>\n",
       "      <th>4</th>\n",
       "      <td>5</td>\n",
       "      <td>307-2024-EF.pdf</td>\n",
       "      <td>página firmad pr editra peru w elw fecha w per...</td>\n",
       "    </tr>\n",
       "    <tr>\n",
       "      <th>5</th>\n",
       "      <td>6</td>\n",
       "      <td>017-2024-CR.pdf</td>\n",
       "      <td>página firmad pr editra peru w elw fecha w per...</td>\n",
       "    </tr>\n",
       "    <tr>\n",
       "      <th>6</th>\n",
       "      <td>7</td>\n",
       "      <td>210-2024-PCM.pdf</td>\n",
       "      <td>página firmad pr editra peru w m fecha norma l...</td>\n",
       "    </tr>\n",
       "    <tr>\n",
       "      <th>7</th>\n",
       "      <td>8</td>\n",
       "      <td>492-MVES.pdf</td>\n",
       "      <td>página firmad pr editra peru w m fecha norma l...</td>\n",
       "    </tr>\n",
       "  </tbody>\n",
       "</table>\n",
       "</div>"
      ],
      "text/plain": [
       "   id                                             titulo  \\\n",
       "0   1                                    019-2024-EF.pdf   \n",
       "1   2  Vigencia Ing. Sandro Che - Chimu - Jefe de Sis...   \n",
       "2   3                                 000047-2024-DP.pdf   \n",
       "3   4                                       324-2024.pdf   \n",
       "4   5                                    307-2024-EF.pdf   \n",
       "5   6                                    017-2024-CR.pdf   \n",
       "6   7                                   210-2024-PCM.pdf   \n",
       "7   8                                       492-MVES.pdf   \n",
       "\n",
       "                                               texto  \n",
       "0  página firmad pr editra peru w mw fecha norma ...  \n",
       "1  página sunarp speristendancde necderas et tn e...  \n",
       "2  página firmad pr editra peru w m fecha norma l...  \n",
       "3  página firmad pr editra peru w mw fecha w peru...  \n",
       "4  página firmad pr editra peru w elw fecha w per...  \n",
       "5  página firmad pr editra peru w elw fecha w per...  \n",
       "6  página firmad pr editra peru w m fecha norma l...  \n",
       "7  página firmad pr editra peru w m fecha norma l...  "
      ]
     },
     "execution_count": 10,
     "metadata": {},
     "output_type": "execute_result"
    }
   ],
   "source": [
    "df_pdfs"
   ]
  },
  {
   "cell_type": "code",
   "execution_count": 20,
   "metadata": {},
   "outputs": [],
   "source": [
    "# Para eliminar la base de datos vectorial\n",
    "#collection.drop()"
   ]
  },
  {
   "cell_type": "markdown",
   "metadata": {},
   "source": [
    "### 5. Usamos una IA generativa para responder a las preguntas"
   ]
  },
  {
   "cell_type": "code",
   "execution_count": 22,
   "metadata": {},
   "outputs": [
    {
     "name": "stdout",
     "output_type": "stream",
     "text": [
      "¿Qué poder se debe otorgar a un jefe de sistemas?\n",
      "\n",
      "La respuesta a tu pregunta es:\n",
      "\n",
      "\"El jefe de sistemas debe otorgarse el poder para celebrar contratos, realizar actos jurídicos, contratar servicios, financiar inversiones, reinvertir, refinanciar y capitalizar, así como para comprar, vender, permutar, arrendar y locar bienes inmuebles, en cualquiera de sus modalidades y formas.\"\n",
      "\n",
      "He sacado esta información del contexto que me proporcionaste, específicamente de la sección que describe las facultades y atribuciones del jefe de sistemas.\n"
     ]
    }
   ],
   "source": [
    "# MODELO DE LLM\n",
    "from langchain.prompts import PromptTemplate\n",
    "from langchain_community.llms import Ollama\n",
    "\n",
    "# Instanciar el modelo Ollama\n",
    "llm = Ollama(model=\"llama3.1:8b\")\n",
    "\n",
    "\n",
    "\n",
    "prompt_template = \"\"\"\n",
    "Quiero que respondas a la pregunta que te hago a partir de la información que te estoy dando como contexto\n",
    "\n",
    "Contexto: {context}\n",
    "\n",
    "Además, te estoy entregando el nombre del archivo del cual he extraido ese contexto, para que puedas hacer referencia a este al momento de dar tu respuesta. No tienes que acceder al archivo ya que todo lo que necesitas te lo estoy dando en el contexto.\n",
    "\n",
    "Nombre del Documento: {titulo}\n",
    "\n",
    "Pregunta: {pregunta}\n",
    "\n",
    "Quiero que respondas a mi pregunta de manera clara. Primero me das la respuesta y luego me dices de que documento has sacado la información\n",
    " \n",
    "\"\"\"\n",
    "\n",
    "# Función para obtener el resumen utilizando Ollama\n",
    "def get_summary_ollama(context_text,titulo, pregunta):\n",
    "    # Crear el prompt final utilizando el contexto\n",
    "    final_prompt = prompt_template.format(context=context_text, titulo=titulo, pregunta=pregunta)\n",
    "    \n",
    "    # Generar la respuesta utilizando el modelo Ollama\n",
    "    response = llm.invoke(final_prompt)\n",
    "    \n",
    "    return response\n",
    "\n",
    "# Función para procesar la respuesta de Ollama\n",
    "def get_answer_ollama(context_text, titulo, pregunta):\n",
    "    # Obtener la respuesta de Ollama\n",
    "    summary = get_summary_ollama(context_text,titulo, pregunta)\n",
    "    return summary\n",
    "\n",
    "\n",
    "context_text = top_3emb[0]['text']\n",
    "id_documento = top_3emb[0]['document_id']\n",
    "titulo_documento = df_pdfs['titulo'].iloc[int(id_documento)]\n",
    "\n",
    "# Pregunta de ejemplo\n",
    "pregunta = pregunta\n",
    "\n",
    "# Obtener y mostrar la respuesta de Ollama\n",
    "print(pregunta)\n",
    "print()\n",
    "respuesta = get_answer_ollama(context_text,titulo_documento, pregunta)\n",
    "print(respuesta)\n"
   ]
  },
  {
   "cell_type": "code",
   "execution_count": null,
   "metadata": {},
   "outputs": [],
   "source": [
    "#####\n",
    "from langchain.prompts import PromptTemplate\n",
    "from langchain_community.llms import Ollama\n",
    "\n",
    "# Instanciar el modelo Ollama\n",
    "llm = Ollama(model=\"llama3.1:8b\")\n",
    "prompt_template = \"\"\"\n",
    "\n",
    "Utiliza el contexto proporcionado para generar un documento en respuesta al requerimiento indicado. Sigue los pasos a continuación:\n",
    "\n",
    "Contexto: {context}\n",
    "\n",
    "Además, te proporciono el nombre del archivo del cual se ha extraído dicho contexto para que lo cites al final de tu respuesta. No es necesario que accedas al archivo, ya que toda la información necesaria está en el contexto que te entrego.\n",
    "\n",
    "Nombre del Documento: {titulo}\n",
    "\n",
    "Requerimiento: {pregunta}\n",
    "\n",
    "Instrucciones:\n",
    "\n",
    "\t1.\tResponde de manera clara y precisa a la pregunta formulada.\n",
    "\t2.\tLuego, menciona el nombre del documento de donde proviene l\n",
    " \n",
    "\"\"\"\n",
    "\n",
    "# Función para obtener el resumen utilizando Ollama\n",
    "def get_summary_ollama(context_text,titulo, pregunta):\n",
    "    # Crear el prompt final utilizando el contexto\n",
    "    final_prompt = prompt_template.format(context=context_text, titulo=titulo, pregunta=pregunta)\n",
    "    \n",
    "    # Generar la respuesta utilizando el modelo Ollama\n",
    "    response = llm.invoke(final_prompt)\n",
    "    \n",
    "    return response\n",
    "\n",
    "# Función para procesar la respuesta de Ollama\n",
    "def get_answer_ollama(context_text, titulo, pregunta):\n",
    "    # Obtener la respuesta de Ollama\n",
    "    summary = get_summary_ollama(context_text,titulo, pregunta)\n",
    "    return summary\n",
    "\n",
    "\n",
    "context_text = top_3emb[0]['text']\n",
    "id_documento = top_3emb[0]['document_id']\n",
    "titulo_documento = df_pdfs['titulo'].iloc[int(id_documento)]\n",
    "\n",
    "# Pregunta de ejemplo\n",
    "pregunta = pregunta\n",
    "\n",
    "# Obtener y mostrar la respuesta de Ollama\n",
    "print(pregunta)\n",
    "print()\n",
    "respuesta = get_answer_ollama(context_text,titulo_documento, pregunta)\n",
    "print(respuesta)\n"
   ]
  }
 ],
 "metadata": {
  "kernelspec": {
   "display_name": "Python 3",
   "language": "python",
   "name": "python3"
  },
  "language_info": {
   "codemirror_mode": {
    "name": "ipython",
    "version": 3
   },
   "file_extension": ".py",
   "mimetype": "text/x-python",
   "name": "python",
   "nbconvert_exporter": "python",
   "pygments_lexer": "ipython3",
   "version": "3.9.6"
  }
 },
 "nbformat": 4,
 "nbformat_minor": 2
}
